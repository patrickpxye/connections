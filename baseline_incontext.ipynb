{
 "cells": [
  {
   "cell_type": "code",
   "execution_count": 1,
   "metadata": {},
   "outputs": [],
   "source": [
    "from baseline import transform_test_data, evaluate_clusters_iou\n",
    "from api_utils import run_inference\n",
    "import json"
   ]
  },
  {
   "cell_type": "code",
   "execution_count": 2,
   "metadata": {},
   "outputs": [
    {
     "name": "stdout",
     "output_type": "stream",
     "text": [
      "env: TOGETHER_API_KEY=86b024a1d75b8017541ed145fbeffbdf07aff06e41c5e977a36987ee6825072b\n"
     ]
    }
   ],
   "source": [
    "%env TOGETHER_API_KEY=86b024a1d75b8017541ed145fbeffbdf07aff06e41c5e977a36987ee6825072b"
   ]
  },
  {
   "cell_type": "code",
   "execution_count": 3,
   "metadata": {},
   "outputs": [],
   "source": [
    "with open('data/splits/connections_test.json', 'r') as file:\n",
    "    data = json.load(file)"
   ]
  },
  {
   "cell_type": "code",
   "execution_count": 4,
   "metadata": {},
   "outputs": [
    {
     "name": "stdout",
     "output_type": "stream",
     "text": [
      "[[['DITTO', ' SAILOR', ' STYLE', ' MANNER'], ['BLUE', ' DRESS', ' NEW', ' SIGHT'], ['LIKEWISE', ' TASTE', ' SMELL', ' TOUCH'], ['HARVEST', ' LOOK', ' SECOND', ' SAME']], [['EXTREME', ' INTENSE', ' PROUD', ' FIERCE'], ['BLOODY', ' DEEP', ' SNOW', ' VIRGIN'], ['BUMP', ' KNOCK', ' NOISE', ' STATIC'], ['FUZZ', ' HAIL', ' RAM', ' BUTT']]]\n"
     ]
    }
   ],
   "source": [
    "test_data = transform_test_data(data, False)\n",
    "predicted_answers = await run_inference(test_data)"
   ]
  },
  {
   "cell_type": "code",
   "execution_count": 5,
   "metadata": {},
   "outputs": [
    {
     "name": "stdout",
     "output_type": "stream",
     "text": [
      "[['DITTO', ' SAILOR', ' STYLE', ' MANNER'], ['BLUE', ' DRESS', ' NEW', ' SIGHT'], ['LIKEWISE', ' TASTE', ' SMELL', ' TOUCH'], ['HARVEST', ' LOOK', ' SECOND', ' SAME']]\n",
      "[['SIGHT', 'SMELL', 'TASTE', 'TOUCH'], ['DRESS', 'LOOK', 'MANNER', 'STYLE'], ['DITTO', 'LIKEWISE', 'SAME', 'SECOND'], ['BLUE', 'HARVEST', 'NEW', 'SAILOR']]\n",
      "[['EXTREME', ' INTENSE', ' PROUD', ' FIERCE'], ['BLOODY', ' DEEP', ' SNOW', ' VIRGIN'], ['BUMP', ' KNOCK', ' NOISE', ' STATIC'], ['FUZZ', ' HAIL', ' RAM', ' BUTT']]\n",
      "[['DEEP', 'EXTREME', 'FIERCE', 'INTENSE'], ['BUMP', 'BUTT', 'KNOCK', 'RAM'], ['FUZZ', 'NOISE', 'SNOW', 'STATIC'], ['BLOODY', 'HAIL', 'PROUD', 'VIRGIN']]\n",
      "average IOU loss in test set:  0.14285714285714285\n"
     ]
    }
   ],
   "source": [
    "\n",
    "ious = []\n",
    "for i in range(len(test_data)):\n",
    "    pred_clusters = predicted_answers[i]\n",
    "    true_clusters = test_data[i]['solutions']\n",
    "    print(pred_clusters)\n",
    "    print(true_clusters)\n",
    "    iou = evaluate_clusters_iou(pred_clusters=pred_clusters, true_clusters=true_clusters)\n",
    "    ious.append(iou)\n",
    "avg_iou = sum(ious) / len(ious)\n",
    "print(\"average IOU loss in test set: \", avg_iou)"
   ]
  }
 ],
 "metadata": {
  "kernelspec": {
   "display_name": "connect",
   "language": "python",
   "name": "python3"
  },
  "language_info": {
   "codemirror_mode": {
    "name": "ipython",
    "version": 3
   },
   "file_extension": ".py",
   "mimetype": "text/x-python",
   "name": "python",
   "nbconvert_exporter": "python",
   "pygments_lexer": "ipython3",
   "version": "3.11.0"
  }
 },
 "nbformat": 4,
 "nbformat_minor": 2
}
