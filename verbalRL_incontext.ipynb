{
 "cells": [
  {
   "cell_type": "code",
   "execution_count": 1,
   "metadata": {},
   "outputs": [],
   "source": [
    "from baseline import transform_test_data\n",
    "from eval import evaluate_clusters_iou, count_matches, evaluate_clusters_entropy\n",
    "from api_utils import run_inference\n",
    "from prompt_lib import agent_prompt, meta_prompt, reflect_prompt, reflect_prompt_2\n",
    "from meta_utils import run_meta_inference, run_agent_inference\n",
    "import json\n",
    "import numpy as np"
   ]
  },
  {
   "cell_type": "code",
   "execution_count": 2,
   "metadata": {},
   "outputs": [
    {
     "name": "stdout",
     "output_type": "stream",
     "text": [
      "env: TOGETHER_API_KEY=eb25e0d054aec138257edf3c264089a5fa04be265ce8c3890597884cec1bc622\n"
     ]
    }
   ],
   "source": [
    "%env TOGETHER_API_KEY=eb25e0d054aec138257edf3c264089a5fa04be265ce8c3890597884cec1bc622"
   ]
  },
  {
   "cell_type": "code",
   "execution_count": 3,
   "metadata": {},
   "outputs": [],
   "source": [
    "def average_iou(predicted_answers, test_data):\n",
    "    ious = []\n",
    "    for i in range(len(test_data)):\n",
    "        pred_clusters = predicted_answers[i]\n",
    "        true_clusters = test_data[i]['solutions']\n",
    "        print(pred_clusters)\n",
    "        print(true_clusters)\n",
    "        iou = evaluate_clusters_iou(pred_clusters=pred_clusters, true_clusters=true_clusters)\n",
    "        ious.append(iou)\n",
    "    avg_iou = sum(ious) / len(ious)\n",
    "    return avg_iou"
   ]
  },
  {
   "cell_type": "code",
   "execution_count": 4,
   "metadata": {},
   "outputs": [
    {
     "name": "stdout",
     "output_type": "stream",
     "text": [
      "[[['LOOK', 'SIGHT', 'BLUE', 'DRESS'], ['LIKEWISE', 'SAME', 'MANNER', 'STYLE'], ['SAILOR', 'TOUCH', 'SMELL', 'HARVEST'], ['NEW', 'SECOND', 'DITTO', 'TASTE']], [['SNOW', 'HAIL', 'DEEP', 'EXTREME'], ['FIRE', 'STATIC', 'NOISE', 'BLOODY'], ['RAM', 'BUMP', 'KNOCK', 'FIERCE'], ['VIRGIN', 'PROUD', 'BUTT', 'FUZZ'], [''], ['Explanation'], [''], ['SNOW', 'HAIL', 'DEEP', 'EXTREMEThesewordsarerelatedtoweatherconditions'], ['FIRE', 'STATIC', 'NOISE', 'BLOODYThesewordscanformcommonphraseswhenpairedwithanotherwordeg', 'FireNOISE', 'StaticFIRE', 'BloodyNOISE'], ['RAM', 'BUMP', 'KNOCK', 'FIERCEThesewordsareassociatedwithacertainverbphraseoractioneg', 'RamBUMP', 'KnockFIERCE'], ['VIRGIN', 'PROUD', 'BUTT', 'FUZZThesewordsarerelatedtobodypartsorpersonalattributeseg', 'VirginBUTT', 'ProudFUZZ']], [['MIST', 'FOG', 'HAZE', 'CLOUD'], ['FIN', 'TAIL', 'FLIPPER', 'BALL'], ['SHADOW', 'TRAIL', 'TRACK', 'ICE'], ['PLUNGER', 'NETHER', 'IRE', 'BUMPER']]]\n",
      "[['LOOK', 'SIGHT', 'BLUE', 'DRESS'], ['LIKEWISE', 'SAME', 'MANNER', 'STYLE'], ['SAILOR', 'TOUCH', 'SMELL', 'HARVEST'], ['NEW', 'SECOND', 'DITTO', 'TASTE']]\n",
      "[['SIGHT', 'SMELL', 'TASTE', 'TOUCH'], ['DRESS', 'LOOK', 'MANNER', 'STYLE'], ['DITTO', 'LIKEWISE', 'SAME', 'SECOND'], ['BLUE', 'HARVEST', 'NEW', 'SAILOR']]\n",
      "[['SNOW', 'HAIL', 'DEEP', 'EXTREME'], ['FIRE', 'STATIC', 'NOISE', 'BLOODY'], ['RAM', 'BUMP', 'KNOCK', 'FIERCE'], ['VIRGIN', 'PROUD', 'BUTT', 'FUZZ'], [''], ['Explanation'], [''], ['SNOW', 'HAIL', 'DEEP', 'EXTREMEThesewordsarerelatedtoweatherconditions'], ['FIRE', 'STATIC', 'NOISE', 'BLOODYThesewordscanformcommonphraseswhenpairedwithanotherwordeg', 'FireNOISE', 'StaticFIRE', 'BloodyNOISE'], ['RAM', 'BUMP', 'KNOCK', 'FIERCEThesewordsareassociatedwithacertainverbphraseoractioneg', 'RamBUMP', 'KnockFIERCE'], ['VIRGIN', 'PROUD', 'BUTT', 'FUZZThesewordsarerelatedtobodypartsorpersonalattributeseg', 'VirginBUTT', 'ProudFUZZ']]\n",
      "[['DEEP', 'EXTREME', 'FIERCE', 'INTENSE'], ['BUMP', 'BUTT', 'KNOCK', 'RAM'], ['FUZZ', 'NOISE', 'SNOW', 'STATIC'], ['BLOODY', 'HAIL', 'PROUD', 'VIRGIN']]\n",
      "[['MIST', 'FOG', 'HAZE', 'CLOUD'], ['FIN', 'TAIL', 'FLIPPER', 'BALL'], ['SHADOW', 'TRAIL', 'TRACK', 'ICE'], ['PLUNGER', 'NETHER', 'IRE', 'BUMPER']]\n",
      "[['CLOUD', 'FOG', 'HAZE', 'MIST'], ['SHADOW', 'TAIL', 'TRACK', 'TRAIL'], ['BALL', 'BUMPER', 'FLIPPER', 'PLUNGER'], ['FIN', 'ICE', 'IRE', 'NETHER']]\n",
      "average IOU loss in test set for iteration 1:  0.38011063011063007\n",
      "[\"You should notice these details:\\n\\n1. When grouping the words, it's important to look for clear and direct relationships between them. This will make it easier to identify the theme or category that connects each group of four words.\\n\\n2. Consider the different ways that words can be related, such as items that belong in the same category, words that form common phrases when paired with another word, or words that are associated with a certain verb phrase or action.\\n\\n3. Be careful not to force relationships between words that don't naturally fit together. It's better to have clear and distinct groups, even if it means that some words are more difficult to place.\\n\\n4. In this case, it might be helpful to start by identifying the easiest group to form, which is usually four items that belong in the same category of objects. From there, you can work on grouping the remaining words based on other types of relationships.\\n\\n5. Remember to follow the format exactly, replacing the [REPLACE_THIS] tokens with your words. Each word should only be used once, and there should be four lines of four words each, with nothing else included.\\n\\n6. Finally, double-check your answer to make sure that it follows the correct format and that each group of words is clearly and directly related. This will help you to avoid penalties and improve your overall performance.\", 'You should notice these details:\\n\\n1. The words in each group should be related by a common theme or category. While you have done a good job of grouping words that can form common phrases or are associated with certain actions, you should also consider grouping words that belong to the same category of objects or concepts.\\n\\n2. The words in each group should only be used once. Make sure you are not repeating any words in your groups.\\n\\n3. The groups should be formed based on the given words only. Do not include any additional words or phrases in your groups.\\n\\n4. The groups should be easy to understand and follow the given format exactly. Make sure each line contains exactly four words, and that the words are related by a clear and distinct theme or category.\\n\\n5. Consider grouping words that are related to weather conditions, body parts or personal attributes, common phrases, and actions. This will help you create clear and distinct groups that follow the given instructions.\\n\\nBy following these guidelines, you can improve your answer and create groups that are easy to understand and follow the given format exactly.', \"You should notice these details:\\n\\n1. When grouping the words, it's important to ensure that each group is related by a clear and consistent theme or category. For example, if you have a group of words related to weather conditions, make sure all four words fit that theme.\\n2. Be careful not to mix different types of relationships within the same group. For instance, if you have a group of words that can be paired with another word to form a common phrase, don't include words that are simply items in the same category.\\n3. Pay attention to the restrictions given in the instructions. Make sure you only include the words given, and that each word is used only once.\\n4. Lastly, double-check your answer to ensure that it follows the correct format. Each line should have four words, and there should be no extra text or line numbers.\\n\\nKeep these points in mind as you revise your answer. I'm confident that you can improve your grouping of the words with a little more attention to detail.\"]\n",
      "[[['EGG', 'FLOUNDER', 'HEAD', 'KNEES'], ['ANT', 'CLIMATE', 'PARES', 'SHUCKS'], ['BASS', 'DRILL', 'LOOSE', 'TOES'], ['SALMON', 'FIRE', 'ISLAND', 'SMILE']], [['SUN', 'RAIN', 'SNOW', 'WIND'], ['HAND', 'EYE', 'MOUTH', 'NOSE'], ['BOLD', 'SMART', 'HAPPY', 'KIND'], ['BOOK', 'PEN', 'TABLE', 'CHAIR']], [['EGG', 'KNUCKLES', 'SMILE', 'WINDOW'], ['PARES', 'PEELS', 'SHELLS', 'SHUCKS'], ['FIRE', 'ANT', 'DRILL', 'ISLAND'], ['CHANGE', 'CHUMP', 'CLIMATE', 'LOOSE']]]\n",
      "[['EGG', 'FLOUNDER', 'HEAD', 'KNEES'], ['ANT', 'CLIMATE', 'PARES', 'SHUCKS'], ['BASS', 'DRILL', 'LOOSE', 'TOES'], ['SALMON', 'FIRE', 'ISLAND', 'SMILE']]\n",
      "[['SIGHT', 'SMELL', 'TASTE', 'TOUCH'], ['DRESS', 'LOOK', 'MANNER', 'STYLE'], ['DITTO', 'LIKEWISE', 'SAME', 'SECOND'], ['BLUE', 'HARVEST', 'NEW', 'SAILOR']]\n",
      "[['SUN', 'RAIN', 'SNOW', 'WIND'], ['HAND', 'EYE', 'MOUTH', 'NOSE'], ['BOLD', 'SMART', 'HAPPY', 'KIND'], ['BOOK', 'PEN', 'TABLE', 'CHAIR']]\n",
      "[['DEEP', 'EXTREME', 'FIERCE', 'INTENSE'], ['BUMP', 'BUTT', 'KNOCK', 'RAM'], ['FUZZ', 'NOISE', 'SNOW', 'STATIC'], ['BLOODY', 'HAIL', 'PROUD', 'VIRGIN']]\n",
      "[['EGG', 'KNUCKLES', 'SMILE', 'WINDOW'], ['PARES', 'PEELS', 'SHELLS', 'SHUCKS'], ['FIRE', 'ANT', 'DRILL', 'ISLAND'], ['CHANGE', 'CHUMP', 'CLIMATE', 'LOOSE']]\n",
      "[['CLOUD', 'FOG', 'HAZE', 'MIST'], ['SHADOW', 'TAIL', 'TRACK', 'TRAIL'], ['BALL', 'BUMPER', 'FLIPPER', 'PLUNGER'], ['FIN', 'ICE', 'IRE', 'NETHER']]\n",
      "average IOU loss in test set for iteration  2 :  0.011904761904761904\n",
      "['You should notice these details:\\n\\nFirst, consider the instructions carefully. The words should be grouped based on their relationships, not just their meanings. For example, while \"EGG\" and \"FLOUNDER\" are both objects, they don\\'t necessarily belong in the same category.\\n\\nSecond, look for common phrases or idioms that can be formed using the words. This can help you group them in a more meaningful way.\\n\\nThird, think about actions or verbs that can be associated with the words. This can provide another way to group them together.\\n\\nLastly, remember to follow the format exactly. Only replace the [REPLACE_THIS] tokens with your words, and make sure you have four lines of four words each.\\n\\nKeep practicing and you\\'ll get the hang of it!', 'You should notice these details:\\n\\n1. When grouping the words, make sure to look for common themes or categories that connect all four words together. For example, if you have four words that are all types of weather, then those four words should be grouped together.\\n\\n2. Be careful not to include any words that are not in the list of 16 words given. This will help ensure that your groups are accurate and follow the instructions.\\n\\n3. Try to avoid grouping words based on their first letter or their length. Instead, focus on finding connections between the words that are more meaningful and substantial.\\n\\n4. When in doubt, refer back to the hints provided in the instructions. These hints can give you a good starting point for finding connections between the words.\\n\\n5. Lastly, take your time and double-check your work before submitting your answer. This will help ensure that your groups are accurate and follow the correct format.', 'You should notice these details:\\n\\n1. When grouping the words, it\\'s important to look for clear and direct relationships between them. While it\\'s possible to form phrases or actions with the words, it\\'s easier to start by finding categories or themes that the words share.\\n\\n2. In your first group, \"EGG, KNUCKLES, SMILE, WINDOW\", it\\'s unclear how these words are related. They don\\'t seem to form any common phrases or actions, and they don\\'t belong to the same category.\\n\\n3. In your second group, \"PARES, PEELS, SHELLS, SHUCKS\", you\\'ve found a group of words that are related by a common action. However, it\\'s important to remember that the words should be related by the action they undergo, not the action they perform.\\n\\n4. In your third group, \"FIRE, ANT, DRILL, ISLAND\", and your fourth group, \"CHANGE, CHUMP, CLIMATE, LOOSE\", it seems like you\\'re trying to form phrases with the words. While this is a valid approach, it might be more challenging to find clear and direct relationships between the words.\\n\\n5. To improve your answer, try to find groups of words that are more directly related. For example, look for words that belong to the same category or share a clear and direct relationship. This will make it easier to form groups of four words that are related by a common theme or category.']\n",
      "[[['EGG', 'ANT', 'PARES', 'HEAD'], ['SALMON', 'FIRE', 'DRILL', 'KNUCKLES'], ['FLOUNDER', 'ISLAND', 'CHUMP', 'PEELS'], ['BASS', 'OPAL', 'CLIMATE', 'SHELLS']], [['APPLE', 'BANANA', 'ORANGE', 'GRAPE'], ['CHAIR', 'TABLE', 'BED', 'DESK'], ['DOG', 'CAT', 'BIRD', 'FISH'], ['CAR', 'BUS', 'TRAIN', 'PLANE']], [['EGG', 'KNUCKLES', 'SMILE', 'WINDOW'], ['PARES', 'PEELS', 'SHELLS', 'SHUCKS'], ['FIRE', 'ANT', 'DRILL', 'ISLAND'], ['CHANGE', 'CHUMP', 'CLIMATE', 'LOOSE']]]\n",
      "[['EGG', 'ANT', 'PARES', 'HEAD'], ['SALMON', 'FIRE', 'DRILL', 'KNUCKLES'], ['FLOUNDER', 'ISLAND', 'CHUMP', 'PEELS'], ['BASS', 'OPAL', 'CLIMATE', 'SHELLS']]\n",
      "[['SIGHT', 'SMELL', 'TASTE', 'TOUCH'], ['DRESS', 'LOOK', 'MANNER', 'STYLE'], ['DITTO', 'LIKEWISE', 'SAME', 'SECOND'], ['BLUE', 'HARVEST', 'NEW', 'SAILOR']]\n",
      "[['APPLE', 'BANANA', 'ORANGE', 'GRAPE'], ['CHAIR', 'TABLE', 'BED', 'DESK'], ['DOG', 'CAT', 'BIRD', 'FISH'], ['CAR', 'BUS', 'TRAIN', 'PLANE']]\n",
      "[['DEEP', 'EXTREME', 'FIERCE', 'INTENSE'], ['BUMP', 'BUTT', 'KNOCK', 'RAM'], ['FUZZ', 'NOISE', 'SNOW', 'STATIC'], ['BLOODY', 'HAIL', 'PROUD', 'VIRGIN']]\n",
      "[['EGG', 'KNUCKLES', 'SMILE', 'WINDOW'], ['PARES', 'PEELS', 'SHELLS', 'SHUCKS'], ['FIRE', 'ANT', 'DRILL', 'ISLAND'], ['CHANGE', 'CHUMP', 'CLIMATE', 'LOOSE']]\n",
      "[['CLOUD', 'FOG', 'HAZE', 'MIST'], ['SHADOW', 'TAIL', 'TRACK', 'TRAIL'], ['BALL', 'BUMPER', 'FLIPPER', 'PLUNGER'], ['FIN', 'ICE', 'IRE', 'NETHER']]\n",
      "average IOU loss in test set for iteration  3 :  0.0\n",
      "[\"You should notice these details:\\n\\nFirst, when grouping the words, make sure to look for common themes or categories that the words can fit into. For example, if you see a group of words that are all related to the senses, then those words should be grouped together.\\n\\nSecond, be careful not to force words into a group just because they seem to fit. Make sure that all four words in a group are strongly related to each other.\\n\\nThird, pay attention to the restrictions given in the instructions. Make sure that you are only using each word once and that you are not including any words that were not given.\\n\\nLastly, take your time and double-check your work before submitting your answer. It's better to take a little longer and get it right than to rush and make mistakes.\\n\\nKeep these things in mind and I'm sure you'll be able to improve your answer. Good luck!\", 'You should notice these details:\\n\\nFirst, pay attention to the given words and their meanings. Some words in your answer, like APPLE, BANANA, ORANGE, and GRAPE, are not part of the given words. Make sure to only use the words provided in your answer.\\n\\nNext, consider the relationships between the words. In your answer, you have grouped words by categories like fruits and furniture, but the given words do not fit into these categories. Instead, look for themes or categories that can be formed using the given words.\\n\\nFor example, you can group words that share a common characteristic, such as DEEP, EXTREME, FIERCE, and INTENSE. Alternatively, you can group words that can form common phrases, like BUMP, BUTT, KNOCK, and RAM, which can be paired with \"into\" to form phrases.\\n\\nLastly, make sure to follow the format provided in the instructions. Your answer should have four lines with four words each, and each word should only be used once. This will help you organize your answer and ensure that you have included all the given words.\\n\\nBy following these tips, you can improve your answer and better understand how to group the given words into related themes or categories.', 'You should notice these details:\\n\\n1. When grouping the words, it\\'s important to ensure that each group is related by a clear and specific theme or category. For example, if you have a group of body parts, make sure all four words are different body parts.\\n2. Be careful not to include any words that are not in the list of 16 words given. This will help you avoid any penalties.\\n3. When forming phrases with the words, make sure that each word can form a common phrase when paired with another word. For example, if you have a group of words that can form phrases with the word \"change\", make sure that each word can form a common phrase with \"change\".\\n4. When associating the words with a certain verb phrase or action, make sure that each word is related to the verb phrase or action in a clear and specific way. For example, if you have a group of words that are things to crack, make sure that each word is something that can be cracked.\\n5. Lastly, make sure to follow the format given, with 4 lines of 4 words each, and replace the [REPLACE_THIS] tokens with your words. This will help ensure that your answer is clear and easy to understand.\\n\\nI hope these tips help you improve your answer. Keep practicing and you\\'ll get the hang of it!']\n",
      "[[['APPLE', 'BANANA', 'ORANGE', 'GRAPE'], ['CHAIR', 'TABLE', 'BED', 'DESK'], ['DOG', 'CAT', 'BIRD', 'FISH'], ['CAR', 'TRUCK', 'BIKE', 'PLANE']], [['DEEP', 'EXTREME', 'FIERCE', 'INTENSE'], ['BUMP', 'BUTT', 'KNOCK', 'RAM'], ['PARES', 'PEELS', 'SHELLS', 'SHUCKS'], ['FIRE', 'ANT', 'DRILL', 'ISLAND']], [['EGG', 'ANT', 'HEAD', 'PARES'], ['SALMON', 'FIRE', 'CHANGE', 'KNUCKLES'], ['FLOUNDER', 'DRILL', 'CLIMATE', 'PEELS'], ['BASS', 'ISLAND', 'LOOSE', 'SHELLS']]]\n",
      "[['APPLE', 'BANANA', 'ORANGE', 'GRAPE'], ['CHAIR', 'TABLE', 'BED', 'DESK'], ['DOG', 'CAT', 'BIRD', 'FISH'], ['CAR', 'TRUCK', 'BIKE', 'PLANE']]\n",
      "[['SIGHT', 'SMELL', 'TASTE', 'TOUCH'], ['DRESS', 'LOOK', 'MANNER', 'STYLE'], ['DITTO', 'LIKEWISE', 'SAME', 'SECOND'], ['BLUE', 'HARVEST', 'NEW', 'SAILOR']]\n",
      "[['DEEP', 'EXTREME', 'FIERCE', 'INTENSE'], ['BUMP', 'BUTT', 'KNOCK', 'RAM'], ['PARES', 'PEELS', 'SHELLS', 'SHUCKS'], ['FIRE', 'ANT', 'DRILL', 'ISLAND']]\n",
      "[['DEEP', 'EXTREME', 'FIERCE', 'INTENSE'], ['BUMP', 'BUTT', 'KNOCK', 'RAM'], ['FUZZ', 'NOISE', 'SNOW', 'STATIC'], ['BLOODY', 'HAIL', 'PROUD', 'VIRGIN']]\n",
      "[['EGG', 'ANT', 'HEAD', 'PARES'], ['SALMON', 'FIRE', 'CHANGE', 'KNUCKLES'], ['FLOUNDER', 'DRILL', 'CLIMATE', 'PEELS'], ['BASS', 'ISLAND', 'LOOSE', 'SHELLS']]\n",
      "[['CLOUD', 'FOG', 'HAZE', 'MIST'], ['SHADOW', 'TAIL', 'TRACK', 'TRAIL'], ['BALL', 'BUMPER', 'FLIPPER', 'PLUNGER'], ['FIN', 'ICE', 'IRE', 'NETHER']]\n",
      "average IOU loss in test set for iteration  4 :  0.16666666666666666\n",
      "['You should notice these details:\\n\\n1. The words in each group should be related by a common theme or category, not just randomly grouped together.\\n2. Pay attention to the hints given, such as items that belong in the same category, words that form a common phrase when paired with another word, or words associated with a certain verb phrase or action.\\n3. Make sure to follow the format exactly, replacing only the [REPLACE_THIS] tokens with your words.\\n4. Double-check your answer to ensure that each word is used only once and that there are no extra words or preceding text.\\n5. Start by identifying the easiest group, which is usually four items that belong in the same category of objects.\\n6. Be careful not to give away the answer directly or indirectly in any form.\\n7. Offer general advice on how to improve the student\\'s answer, without referring to any specific word.\\n\\nIn this case, the student\\'s grouping of the words is not correct. The student should focus on finding the relationships between the words and grouping them accordingly. For example, the words \"SIGHT\", \"SMELL\", \"TASTE\", and \"TOUCH\" are all senses, so they could be grouped together. The student should look for similar relationships between the other words and group them accordingly.', 'You should notice these details:\\n\\nFirst, when grouping the words, make sure to look for common themes or categories that the words can fit into. For example, if there are words that are all related to weather, they should be grouped together.\\n\\nNext, consider if any of the words can form common phrases when paired with another word. If so, those words should be grouped together.\\n\\nAdditionally, think about if any of the words are associated with a certain verb phrase or action. If so, those words should be grouped together.\\n\\nLastly, make sure to follow the format provided and only include the words given, without any additional text or line numbers. Each word should only be used once, and there should be four lines of four words each.\\n\\nBy following these guidelines, you can improve your grouping of the words and avoid any penalties.', 'You should notice these details:\\n\\n1. When grouping the words, it\\'s important to look for clear and distinct categories or themes that connect the words. In your current answer, some of the groups seem to be a mix of different categories, making it difficult to identify a clear connection between all the words.\\n\\n2. Pay attention to the instructions and the hints provided. The hints suggest that the words can be grouped by category, by forming common phrases, or by being associated with a certain action. Make sure to consider all these possibilities when grouping the words.\\n\\n3. Be careful not to include any words that are not in the list of 16 words given. In your current answer, you have included words like \"EGG,\" \"SALMON,\" \"FLOUNDER,\" and \"BASS,\" which are not in the original list.\\n\\n4. Lastly, make sure to follow the format provided in the instructions. Your answer should consist of 4 lines, with 4 words on each line, and each word should only be used once. Your current answer includes some words more than once, and it is not in the correct format.\\n\\nKeep these points in mind as you revise your answer. Remember, the goal is to find clear and distinct categories or themes that connect the words in each group. Good luck!']\n",
      "[[['SIGHT', 'SMELL', 'TASTE', 'TOUCH'], ['FIRE', 'ANT', 'DRILL', 'ISLAND'], ['CHANGE', 'CHUMP', 'CLIMATE', 'LOOSE'], ['CRACK', 'EGG', 'KNUCKLES', 'WINDOW']], [['SUN', 'MOON', 'STAR', 'SKY'], ['TREE', 'FLOWER', 'LEAF', 'ROOT'], ['BOOK', 'PEN', 'PAGE', 'INK'], ['SHOE', 'SHIRT', 'HAT', 'BELT']], [['APPLE', 'BANANA', 'ORANGE', 'GRAPE'], ['CHAIR', 'TABLE', 'BED', 'DESK'], ['DOG', 'CAT', 'BIRD', 'FISH'], ['CAR', 'BUS', 'TRAIN', 'PLANE']]]\n",
      "[['SIGHT', 'SMELL', 'TASTE', 'TOUCH'], ['FIRE', 'ANT', 'DRILL', 'ISLAND'], ['CHANGE', 'CHUMP', 'CLIMATE', 'LOOSE'], ['CRACK', 'EGG', 'KNUCKLES', 'WINDOW']]\n",
      "[['SIGHT', 'SMELL', 'TASTE', 'TOUCH'], ['DRESS', 'LOOK', 'MANNER', 'STYLE'], ['DITTO', 'LIKEWISE', 'SAME', 'SECOND'], ['BLUE', 'HARVEST', 'NEW', 'SAILOR']]\n",
      "[['SUN', 'MOON', 'STAR', 'SKY'], ['TREE', 'FLOWER', 'LEAF', 'ROOT'], ['BOOK', 'PEN', 'PAGE', 'INK'], ['SHOE', 'SHIRT', 'HAT', 'BELT']]\n",
      "[['DEEP', 'EXTREME', 'FIERCE', 'INTENSE'], ['BUMP', 'BUTT', 'KNOCK', 'RAM'], ['FUZZ', 'NOISE', 'SNOW', 'STATIC'], ['BLOODY', 'HAIL', 'PROUD', 'VIRGIN']]\n",
      "[['APPLE', 'BANANA', 'ORANGE', 'GRAPE'], ['CHAIR', 'TABLE', 'BED', 'DESK'], ['DOG', 'CAT', 'BIRD', 'FISH'], ['CAR', 'BUS', 'TRAIN', 'PLANE']]\n",
      "[['CLOUD', 'FOG', 'HAZE', 'MIST'], ['SHADOW', 'TAIL', 'TRACK', 'TRAIL'], ['BALL', 'BUMPER', 'FLIPPER', 'PLUNGER'], ['FIN', 'ICE', 'IRE', 'NETHER']]\n",
      "average IOU loss in test set for iteration  5 :  0.08333333333333333\n",
      "[\"You should notice these details:\\n\\nFirstly, when grouping the words, it's important to ensure that each group has a clear and distinct theme or category. While you have done well in creating groups with related words, some of your groups seem to lack a clear connection between all four words.\\n\\nSecondly, try to avoid having groups where only three words are strongly related, and the fourth word seems out of place. This can happen when you focus too much on pairing words to form phrases, rather than finding a common theme or category for all four words.\\n\\nLastly, remember that the words can be associated with a certain verb phrase or action. This can be a helpful way to group words that might not seem to fit together at first glance.\\n\\nKeep these points in mind and review your groupings. I'm confident that you can improve your answer with a bit more thought and consideration.\", 'You should notice these details:\\n\\nFirst, pay attention to the words given and try to find connections between them. For example, are there any words that can be grouped together because they belong to the same category or share a common theme?\\n\\nNext, consider if any of the words can form a common phrase when paired with another word. This can help you create groups of words that are related in a different way.\\n\\nAdditionally, think about if any of the words can be associated with a certain verb phrase or action. This can help you create groups of words that are related by what they do or how they are used.\\n\\nFinally, make sure to follow the instructions and format carefully. Only include the words given, and do not include any additional words or preceding text. Each word should only be used once, and the groups should be presented in the correct format.\\n\\nBy keeping these things in mind, you can improve your answer and create groups of words that are more closely related.', 'You should notice these details:\\n\\n1. The words given are not common objects like fruits or furniture, but rather more abstract concepts or things. Make sure to consider the given words as they are, without trying to fit them into more familiar categories.\\n\\n2. Look for relationships between the words that go beyond simple categories. Consider if the words can form common phrases when paired with another word, or if they are associated with a certain action or verb phrase.\\n\\n3. Pay attention to the hints provided. They suggest that the words can be related by a category, a common phrase, or an action. Use these hints to guide your grouping of the words.\\n\\n4. Lastly, remember to follow the format exactly. Only replace the [REPLACE_THIS] tokens with your words, and make sure you have 4 lines of 4 words, with no extra text or line numbers.']\n",
      "[[['APPLE', 'BANANA', 'ORANGE', 'GRAPE'], ['CHAIR', 'TABLE', 'BED', 'DESK'], ['DANCE', 'SING', 'RUN', 'JUMP'], ['FLOWER', 'TREE', 'GRASS', 'LEAF']], [['APPLE', 'BANANA', 'ORANGE', 'GRAPE'], ['CHAIR', 'TABLE', 'DESK', 'SHELF'], ['DANCE', 'SING', 'LAUGH', 'CRY'], ['ELEPHANT', 'LION', 'TIGER', 'ZEBRA']], [['ECHO', 'SHADOW', 'REFLECTION', 'SILHOUETTE'], ['DAWN', 'NOON', 'DUSK', 'MIDNIGHT'], ['LAUGH', 'SMILE', 'GIGGLE', 'CHUCKLE'], ['RIVER', 'STREAM', 'BROOK', 'CREEK']]]\n",
      "[['APPLE', 'BANANA', 'ORANGE', 'GRAPE'], ['CHAIR', 'TABLE', 'BED', 'DESK'], ['DANCE', 'SING', 'RUN', 'JUMP'], ['FLOWER', 'TREE', 'GRASS', 'LEAF']]\n",
      "[['SIGHT', 'SMELL', 'TASTE', 'TOUCH'], ['DRESS', 'LOOK', 'MANNER', 'STYLE'], ['DITTO', 'LIKEWISE', 'SAME', 'SECOND'], ['BLUE', 'HARVEST', 'NEW', 'SAILOR']]\n",
      "[['APPLE', 'BANANA', 'ORANGE', 'GRAPE'], ['CHAIR', 'TABLE', 'DESK', 'SHELF'], ['DANCE', 'SING', 'LAUGH', 'CRY'], ['ELEPHANT', 'LION', 'TIGER', 'ZEBRA']]\n",
      "[['DEEP', 'EXTREME', 'FIERCE', 'INTENSE'], ['BUMP', 'BUTT', 'KNOCK', 'RAM'], ['FUZZ', 'NOISE', 'SNOW', 'STATIC'], ['BLOODY', 'HAIL', 'PROUD', 'VIRGIN']]\n",
      "[['ECHO', 'SHADOW', 'REFLECTION', 'SILHOUETTE'], ['DAWN', 'NOON', 'DUSK', 'MIDNIGHT'], ['LAUGH', 'SMILE', 'GIGGLE', 'CHUCKLE'], ['RIVER', 'STREAM', 'BROOK', 'CREEK']]\n",
      "[['CLOUD', 'FOG', 'HAZE', 'MIST'], ['SHADOW', 'TAIL', 'TRACK', 'TRAIL'], ['BALL', 'BUMPER', 'FLIPPER', 'PLUNGER'], ['FIN', 'ICE', 'IRE', 'NETHER']]\n",
      "average IOU loss in test set for iteration  6 :  0.011904761904761904\n",
      "[\"You should notice these details:\\n\\n1. The words given can be grouped by their meaning or usage, not just by their category as objects.\\n2. Pay attention to the instructions and follow the restrictions given, especially the format for your answer.\\n3. Look for words that can be associated with a certain action or verb phrase, or words that can form a common phrase when paired with another word.\\n4. Make sure to use each word only once and include all 16 words in your answer.\\n5. Start by identifying the easiest group, which is usually four items that belong in the same category of objects, but also consider other ways to group the words.\\n6. Double-check your answer to make sure it follows the correct format and includes all the words given.\\n7. Don't be afraid to revise your answer and try different groupings until you find the best one.\\n8. Remember, the goal is to group the words in a way that makes sense and follows the instructions, not just to match the example given.\\n\\nKeep practicing and you will improve!\", 'You should notice these details:\\n\\nFirst, pay attention to the given words and their meanings. Some words may seem unrelated at first, but they can be grouped by a common theme or category.\\n\\nNext, consider the hints provided. The words can be grouped as items in the same category, form common phrases with another word, or be associated with a certain verb phrase or action.\\n\\nWhen grouping the words, make sure to follow the restrictions given. Only include the words provided, and do not include any additional words or preceding text.\\n\\nLastly, double-check your answer to ensure that it follows the correct format. Each line should have four words, and there should be no extra text or line numbers.\\n\\nBy following these guidelines, you can improve your answer and group the words more accurately.', 'You should notice these details:\\n\\nFirst, when grouping the words, make sure to look for common themes or categories that the words can fit into. For example, if there are words that are all types of weather or words that are all body parts, those would make good groups.\\n\\nSecond, consider if any of the words can form common phrases when paired with another word. If you can find a group of words that all fit into this category, that would be another good way to group them.\\n\\nThird, think about if any of the words are associated with a certain verb phrase or action. If you can find a group of words that all fit into this category, that would be another good way to group them.\\n\\nLastly, make sure to follow the format given and only include the words given, without any extra words or phrases. Each word should only be used once, and there should be four groups of four words each.']\n",
      "[[['EGG', 'ANT', 'HEAD', 'PARES'], ['SALMON', 'FIRE', 'CHUMP', 'WINDOW'], ['BASS', 'DRILL', 'CLIMATE', 'SMILE'], ['TROUT', 'ISLAND', 'LOOSE', 'SHELLS']], [['EGG', 'CRACK', 'SHELL', 'YOLK'], ['FISH', 'BASS', 'SALMON', 'TROUT'], ['FIRE', 'ANT', 'DRILL', 'ISLAND'], ['BODY', 'HEAD', 'KNEES', 'TOES']], [['SUN', 'RAIN', 'SNOW', 'WIND'], ['HOUSE', 'CAR', 'TREE', 'BRIDGE'], ['HAPPY', 'SAD', 'ANGRY', 'SURPRISED'], ['BOOK', 'PEN', 'TABLE', 'CHAIR']]]\n",
      "[['EGG', 'ANT', 'HEAD', 'PARES'], ['SALMON', 'FIRE', 'CHUMP', 'WINDOW'], ['BASS', 'DRILL', 'CLIMATE', 'SMILE'], ['TROUT', 'ISLAND', 'LOOSE', 'SHELLS']]\n",
      "[['SIGHT', 'SMELL', 'TASTE', 'TOUCH'], ['DRESS', 'LOOK', 'MANNER', 'STYLE'], ['DITTO', 'LIKEWISE', 'SAME', 'SECOND'], ['BLUE', 'HARVEST', 'NEW', 'SAILOR']]\n",
      "[['EGG', 'CRACK', 'SHELL', 'YOLK'], ['FISH', 'BASS', 'SALMON', 'TROUT'], ['FIRE', 'ANT', 'DRILL', 'ISLAND'], ['BODY', 'HEAD', 'KNEES', 'TOES']]\n",
      "[['DEEP', 'EXTREME', 'FIERCE', 'INTENSE'], ['BUMP', 'BUTT', 'KNOCK', 'RAM'], ['FUZZ', 'NOISE', 'SNOW', 'STATIC'], ['BLOODY', 'HAIL', 'PROUD', 'VIRGIN']]\n",
      "[['SUN', 'RAIN', 'SNOW', 'WIND'], ['HOUSE', 'CAR', 'TREE', 'BRIDGE'], ['HAPPY', 'SAD', 'ANGRY', 'SURPRISED'], ['BOOK', 'PEN', 'TABLE', 'CHAIR']]\n",
      "[['CLOUD', 'FOG', 'HAZE', 'MIST'], ['SHADOW', 'TAIL', 'TRACK', 'TRAIL'], ['BALL', 'BUMPER', 'FLIPPER', 'PLUNGER'], ['FIN', 'ICE', 'IRE', 'NETHER']]\n",
      "average IOU loss in test set for iteration  7 :  0.0\n"
     ]
    }
   ],
   "source": [
    "with open('data/splits/connections_test.json', 'r') as file:\n",
    "    data = json.load(file)\n",
    "test_data = transform_test_data(data, False)\n",
    "\n",
    "predicted_answers = await run_inference(test_data, agent_prompt, model=\"databricks/dbrx-instruct\")\n",
    "\n",
    "with open('data/meta/iter_1_answers.json', 'w') as file:\n",
    "    json.dump(predicted_answers, file)\n",
    "\n",
    "print(\"average IOU loss in test set for iteration 1: \", average_iou(predicted_answers, test_data))\n",
    "\n",
    "\n",
    "for i in range(2,8):\n",
    "    with open(f'data/meta/iter_{i-1}_answers.json', 'r') as file:\n",
    "        agent_responses = json.load(file)\n",
    "\n",
    "    meta_instructions = await run_meta_inference(prompt = meta_prompt, instructions = agent_prompt, games = test_data, responses = agent_responses, model=\"databricks/dbrx-instruct\")\n",
    "\n",
    "    #predicted_answers = await run_agent_inference(prompt = reflect_prompt, instructions = agent_prompt, games = test_data, responses = agent_responses, meta_instructions = meta_instructions, model=\"databricks/dbrx-instruct\")\n",
    "    predicted_answers = await run_agent_inference(prompt = reflect_prompt_2, instructions = agent_prompt, games = test_data, responses = agent_responses, meta_instructions = meta_instructions, model=\"databricks/dbrx-instruct\")\n",
    "\n",
    "    with open(f'data/meta/iter_{i}_answers.json', 'w') as file:\n",
    "        json.dump(predicted_answers, file)\n",
    "    print(\"average IOU loss in test set for iteration \", i, \": \", average_iou(predicted_answers, test_data))"
   ]
  }
 ],
 "metadata": {
  "kernelspec": {
   "display_name": "connect",
   "language": "python",
   "name": "python3"
  },
  "language_info": {
   "codemirror_mode": {
    "name": "ipython",
    "version": 3
   },
   "file_extension": ".py",
   "mimetype": "text/x-python",
   "name": "python",
   "nbconvert_exporter": "python",
   "pygments_lexer": "ipython3",
   "version": "3.11.0"
  }
 },
 "nbformat": 4,
 "nbformat_minor": 2
}
