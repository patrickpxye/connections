{
 "cells": [
  {
   "cell_type": "code",
   "execution_count": 5,
   "metadata": {},
   "outputs": [],
   "source": [
    "from baseline import encode_words, k_means_clustering"
   ]
  },
  {
   "cell_type": "code",
   "execution_count": 6,
   "metadata": {},
   "outputs": [],
   "source": [
    "words = ['apple', 'banana', 'cherry', 'date', 'cat', 'dog', 'elephant', 'fish', 'spring', 'summer', 'autumn', 'winter', 'shakespeare', 'dostoevsky', 'tolstoy', 'hemingway']\n",
    "embeddings = encode_words(words, model_type='glove')\n",
    "word_clusters, model = k_means_clustering(embeddings, n_clusters=4)\n",
    "print(word_clusters)"
   ]
  }
 ],
 "metadata": {
  "kernelspec": {
   "display_name": "connect",
   "language": "python",
   "name": "python3"
  },
  "language_info": {
   "codemirror_mode": {
    "name": "ipython",
    "version": 3
   },
   "file_extension": ".py",
   "mimetype": "text/x-python",
   "name": "python",
   "nbconvert_exporter": "python",
   "pygments_lexer": "ipython3",
   "version": "3.11.0"
  }
 },
 "nbformat": 4,
 "nbformat_minor": 2
}
